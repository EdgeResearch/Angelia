{
 "cells": [
  {
   "cell_type": "code",
   "execution_count": 80,
   "id": "initial_id",
   "metadata": {
    "collapsed": true,
    "ExecuteTime": {
     "end_time": "2024-03-05T08:40:14.696392Z",
     "start_time": "2024-03-05T08:40:14.631883Z"
    }
   },
   "outputs": [],
   "source": [
    "import pandas as pd"
   ]
  },
  {
   "cell_type": "code",
   "execution_count": 81,
   "outputs": [],
   "source": [
    "dataset = pd.read_csv(\"datasets/dataset_sentiments.csv\")"
   ],
   "metadata": {
    "collapsed": false,
    "ExecuteTime": {
     "end_time": "2024-03-05T08:40:16.234840Z",
     "start_time": "2024-03-05T08:40:16.220401Z"
    }
   },
   "id": "fba4f220cc72a704"
  },
  {
   "cell_type": "code",
   "execution_count": 82,
   "outputs": [
    {
     "data": {
      "text/plain": "                                               title_f  \\\n0    Bill Gates: “I think Donald Trump will go down...   \n1    Obama Orders Life-Sized Bronze Statute of Hims...   \n2    MITT ROMNEY: ‘TRUMP HAS SOME VERY SERIOUS EMOT...   \n3       FDA Announced That Vaccines Are Causing Autism   \n4    Melania Trump Hired Exorcist To ‘Cleanse White...   \n..                                                 ...   \n439  Bowe Bergdahl wanders off during court-martial...   \n440  ISIS Lays Down Arms After Katy Perry’s Impassi...   \n441  International Arrest Warrant Issued for George...   \n442  Police Discover Meth Lab In Back Room of Alaba...   \n443  Sarah Palin Calls To Boycott Mall Of America B...   \n\n                                               title_r  \\\n0    No, Bill Gates didn't tweet Donald Trump will ...   \n1    No, Former President Obama Didn't Build a Stat...   \n2    NOT REAL NEWS: Mitt Romney did not call on Tru...   \n3    FDA did not issue new statement on vaccines an...   \n4     First lady did not hire exorcist for White House   \n..                                                 ...   \n439  No, Bowe Bergdahl didn't wander off during court    \n440  No, ISIS didn't lay down its arms after Katy P...   \n441  The Russian Government did not issue an arrest...   \n442  Meth lab in Walmart bathroom? Not the oddest p...   \n443  Fake news site says Sarah Palin to boycott Mal...   \n\n    sentiment_f_transformers sentiment_r_transformers sentiment_f_textblob  \\\n0                   POSITIVE                 NEGATIVE             NEGATIVE   \n1                   POSITIVE                 NEGATIVE              NEUTRAL   \n2                   NEGATIVE                 NEGATIVE             POSITIVE   \n3                   NEGATIVE                 NEGATIVE             NEGATIVE   \n4                   NEGATIVE                 NEGATIVE             NEGATIVE   \n..                       ...                      ...                  ...   \n439                 NEGATIVE                 NEGATIVE              NEUTRAL   \n440                 NEGATIVE                 NEGATIVE             POSITIVE   \n441                 NEGATIVE                 NEGATIVE             POSITIVE   \n442                 NEGATIVE                 POSITIVE              NEUTRAL   \n443                 NEGATIVE                 NEGATIVE             POSITIVE   \n\n    sentiment_r_textblob sentiment_f_natural sentiment_r_natural  \\\n0               NEGATIVE            POSITIVE            NEGATIVE   \n1                NEUTRAL             NEUTRAL             NEUTRAL   \n2               POSITIVE            NEGATIVE            POSITIVE   \n3                NEUTRAL             NEUTRAL             NEUTRAL   \n4                NEUTRAL             NEUTRAL             NEUTRAL   \n..                   ...                 ...                 ...   \n439              NEUTRAL             NEUTRAL             NEUTRAL   \n440             POSITIVE            POSITIVE            NEGATIVE   \n441             POSITIVE            NEGATIVE            POSITIVE   \n442              NEUTRAL            POSITIVE             NEUTRAL   \n443              NEUTRAL            NEGATIVE            NEGATIVE   \n\n    sentiment_f_sentiment sentiment_r_sentiment  heuristics  \n0                POSITIVE              POSITIVE        True  \n1                 NEUTRAL              NEGATIVE        True  \n2                NEGATIVE              NEGATIVE       False  \n3                 NEUTRAL               NEUTRAL       False  \n4                 NEUTRAL               NEUTRAL       False  \n..                    ...                   ...         ...  \n439               NEUTRAL              NEGATIVE        True  \n440               NEUTRAL              POSITIVE        True  \n441              NEGATIVE              NEGATIVE       False  \n442               NEUTRAL               NEUTRAL       False  \n443              NEGATIVE              NEGATIVE        True  \n\n[444 rows x 11 columns]",
      "text/html": "<div>\n<style scoped>\n    .dataframe tbody tr th:only-of-type {\n        vertical-align: middle;\n    }\n\n    .dataframe tbody tr th {\n        vertical-align: top;\n    }\n\n    .dataframe thead th {\n        text-align: right;\n    }\n</style>\n<table border=\"1\" class=\"dataframe\">\n  <thead>\n    <tr style=\"text-align: right;\">\n      <th></th>\n      <th>title_f</th>\n      <th>title_r</th>\n      <th>sentiment_f_transformers</th>\n      <th>sentiment_r_transformers</th>\n      <th>sentiment_f_textblob</th>\n      <th>sentiment_r_textblob</th>\n      <th>sentiment_f_natural</th>\n      <th>sentiment_r_natural</th>\n      <th>sentiment_f_sentiment</th>\n      <th>sentiment_r_sentiment</th>\n      <th>heuristics</th>\n    </tr>\n  </thead>\n  <tbody>\n    <tr>\n      <th>0</th>\n      <td>Bill Gates: “I think Donald Trump will go down...</td>\n      <td>No, Bill Gates didn't tweet Donald Trump will ...</td>\n      <td>POSITIVE</td>\n      <td>NEGATIVE</td>\n      <td>NEGATIVE</td>\n      <td>NEGATIVE</td>\n      <td>POSITIVE</td>\n      <td>NEGATIVE</td>\n      <td>POSITIVE</td>\n      <td>POSITIVE</td>\n      <td>True</td>\n    </tr>\n    <tr>\n      <th>1</th>\n      <td>Obama Orders Life-Sized Bronze Statute of Hims...</td>\n      <td>No, Former President Obama Didn't Build a Stat...</td>\n      <td>POSITIVE</td>\n      <td>NEGATIVE</td>\n      <td>NEUTRAL</td>\n      <td>NEUTRAL</td>\n      <td>NEUTRAL</td>\n      <td>NEUTRAL</td>\n      <td>NEUTRAL</td>\n      <td>NEGATIVE</td>\n      <td>True</td>\n    </tr>\n    <tr>\n      <th>2</th>\n      <td>MITT ROMNEY: ‘TRUMP HAS SOME VERY SERIOUS EMOT...</td>\n      <td>NOT REAL NEWS: Mitt Romney did not call on Tru...</td>\n      <td>NEGATIVE</td>\n      <td>NEGATIVE</td>\n      <td>POSITIVE</td>\n      <td>POSITIVE</td>\n      <td>NEGATIVE</td>\n      <td>POSITIVE</td>\n      <td>NEGATIVE</td>\n      <td>NEGATIVE</td>\n      <td>False</td>\n    </tr>\n    <tr>\n      <th>3</th>\n      <td>FDA Announced That Vaccines Are Causing Autism</td>\n      <td>FDA did not issue new statement on vaccines an...</td>\n      <td>NEGATIVE</td>\n      <td>NEGATIVE</td>\n      <td>NEGATIVE</td>\n      <td>NEUTRAL</td>\n      <td>NEUTRAL</td>\n      <td>NEUTRAL</td>\n      <td>NEUTRAL</td>\n      <td>NEUTRAL</td>\n      <td>False</td>\n    </tr>\n    <tr>\n      <th>4</th>\n      <td>Melania Trump Hired Exorcist To ‘Cleanse White...</td>\n      <td>First lady did not hire exorcist for White House</td>\n      <td>NEGATIVE</td>\n      <td>NEGATIVE</td>\n      <td>NEGATIVE</td>\n      <td>NEUTRAL</td>\n      <td>NEUTRAL</td>\n      <td>NEUTRAL</td>\n      <td>NEUTRAL</td>\n      <td>NEUTRAL</td>\n      <td>False</td>\n    </tr>\n    <tr>\n      <th>...</th>\n      <td>...</td>\n      <td>...</td>\n      <td>...</td>\n      <td>...</td>\n      <td>...</td>\n      <td>...</td>\n      <td>...</td>\n      <td>...</td>\n      <td>...</td>\n      <td>...</td>\n      <td>...</td>\n    </tr>\n    <tr>\n      <th>439</th>\n      <td>Bowe Bergdahl wanders off during court-martial...</td>\n      <td>No, Bowe Bergdahl didn't wander off during court</td>\n      <td>NEGATIVE</td>\n      <td>NEGATIVE</td>\n      <td>NEUTRAL</td>\n      <td>NEUTRAL</td>\n      <td>NEUTRAL</td>\n      <td>NEUTRAL</td>\n      <td>NEUTRAL</td>\n      <td>NEGATIVE</td>\n      <td>True</td>\n    </tr>\n    <tr>\n      <th>440</th>\n      <td>ISIS Lays Down Arms After Katy Perry’s Impassi...</td>\n      <td>No, ISIS didn't lay down its arms after Katy P...</td>\n      <td>NEGATIVE</td>\n      <td>NEGATIVE</td>\n      <td>POSITIVE</td>\n      <td>POSITIVE</td>\n      <td>POSITIVE</td>\n      <td>NEGATIVE</td>\n      <td>NEUTRAL</td>\n      <td>POSITIVE</td>\n      <td>True</td>\n    </tr>\n    <tr>\n      <th>441</th>\n      <td>International Arrest Warrant Issued for George...</td>\n      <td>The Russian Government did not issue an arrest...</td>\n      <td>NEGATIVE</td>\n      <td>NEGATIVE</td>\n      <td>POSITIVE</td>\n      <td>POSITIVE</td>\n      <td>NEGATIVE</td>\n      <td>POSITIVE</td>\n      <td>NEGATIVE</td>\n      <td>NEGATIVE</td>\n      <td>False</td>\n    </tr>\n    <tr>\n      <th>442</th>\n      <td>Police Discover Meth Lab In Back Room of Alaba...</td>\n      <td>Meth lab in Walmart bathroom? Not the oddest p...</td>\n      <td>NEGATIVE</td>\n      <td>POSITIVE</td>\n      <td>NEUTRAL</td>\n      <td>NEUTRAL</td>\n      <td>POSITIVE</td>\n      <td>NEUTRAL</td>\n      <td>NEUTRAL</td>\n      <td>NEUTRAL</td>\n      <td>False</td>\n    </tr>\n    <tr>\n      <th>443</th>\n      <td>Sarah Palin Calls To Boycott Mall Of America B...</td>\n      <td>Fake news site says Sarah Palin to boycott Mal...</td>\n      <td>NEGATIVE</td>\n      <td>NEGATIVE</td>\n      <td>POSITIVE</td>\n      <td>NEUTRAL</td>\n      <td>NEGATIVE</td>\n      <td>NEGATIVE</td>\n      <td>NEGATIVE</td>\n      <td>NEGATIVE</td>\n      <td>True</td>\n    </tr>\n  </tbody>\n</table>\n<p>444 rows × 11 columns</p>\n</div>"
     },
     "execution_count": 82,
     "metadata": {},
     "output_type": "execute_result"
    }
   ],
   "source": [
    "dataset"
   ],
   "metadata": {
    "collapsed": false,
    "ExecuteTime": {
     "end_time": "2024-03-05T08:40:16.814381Z",
     "start_time": "2024-03-05T08:40:16.803836Z"
    }
   },
   "id": "7ef35f7e2c49add5"
  },
  {
   "cell_type": "code",
   "execution_count": 83,
   "outputs": [],
   "source": [
    "pd.set_option('future.no_silent_downcasting', True)\n",
    "for k in dataset.keys():\n",
    "    dataset[k] = dataset[k].replace({\"POSITIVE\" : 1, \"NEUTRAL\" : 0, \"NEGATIVE\" : -1})"
   ],
   "metadata": {
    "collapsed": false,
    "ExecuteTime": {
     "end_time": "2024-03-05T08:40:18.222933Z",
     "start_time": "2024-03-05T08:40:18.212292Z"
    }
   },
   "id": "61d20b8638b640a"
  },
  {
   "cell_type": "code",
   "execution_count": 84,
   "outputs": [
    {
     "data": {
      "text/plain": "                                               title_f  \\\n0    Bill Gates: “I think Donald Trump will go down...   \n1    Obama Orders Life-Sized Bronze Statute of Hims...   \n2    MITT ROMNEY: ‘TRUMP HAS SOME VERY SERIOUS EMOT...   \n3       FDA Announced That Vaccines Are Causing Autism   \n4    Melania Trump Hired Exorcist To ‘Cleanse White...   \n..                                                 ...   \n439  Bowe Bergdahl wanders off during court-martial...   \n440  ISIS Lays Down Arms After Katy Perry’s Impassi...   \n441  International Arrest Warrant Issued for George...   \n442  Police Discover Meth Lab In Back Room of Alaba...   \n443  Sarah Palin Calls To Boycott Mall Of America B...   \n\n                                               title_r  \\\n0    No, Bill Gates didn't tweet Donald Trump will ...   \n1    No, Former President Obama Didn't Build a Stat...   \n2    NOT REAL NEWS: Mitt Romney did not call on Tru...   \n3    FDA did not issue new statement on vaccines an...   \n4     First lady did not hire exorcist for White House   \n..                                                 ...   \n439  No, Bowe Bergdahl didn't wander off during court    \n440  No, ISIS didn't lay down its arms after Katy P...   \n441  The Russian Government did not issue an arrest...   \n442  Meth lab in Walmart bathroom? Not the oddest p...   \n443  Fake news site says Sarah Palin to boycott Mal...   \n\n    sentiment_f_transformers sentiment_r_transformers sentiment_f_textblob  \\\n0                          1                       -1                   -1   \n1                          1                       -1                    0   \n2                         -1                       -1                    1   \n3                         -1                       -1                   -1   \n4                         -1                       -1                   -1   \n..                       ...                      ...                  ...   \n439                       -1                       -1                    0   \n440                       -1                       -1                    1   \n441                       -1                       -1                    1   \n442                       -1                        1                    0   \n443                       -1                       -1                    1   \n\n    sentiment_r_textblob sentiment_f_natural sentiment_r_natural  \\\n0                     -1                   1                  -1   \n1                      0                   0                   0   \n2                      1                  -1                   1   \n3                      0                   0                   0   \n4                      0                   0                   0   \n..                   ...                 ...                 ...   \n439                    0                   0                   0   \n440                    1                   1                  -1   \n441                    1                  -1                   1   \n442                    0                   1                   0   \n443                    0                  -1                  -1   \n\n    sentiment_f_sentiment sentiment_r_sentiment  heuristics  \n0                       1                     1        True  \n1                       0                    -1        True  \n2                      -1                    -1       False  \n3                       0                     0       False  \n4                       0                     0       False  \n..                    ...                   ...         ...  \n439                     0                    -1        True  \n440                     0                     1        True  \n441                    -1                    -1       False  \n442                     0                     0       False  \n443                    -1                    -1        True  \n\n[444 rows x 11 columns]",
      "text/html": "<div>\n<style scoped>\n    .dataframe tbody tr th:only-of-type {\n        vertical-align: middle;\n    }\n\n    .dataframe tbody tr th {\n        vertical-align: top;\n    }\n\n    .dataframe thead th {\n        text-align: right;\n    }\n</style>\n<table border=\"1\" class=\"dataframe\">\n  <thead>\n    <tr style=\"text-align: right;\">\n      <th></th>\n      <th>title_f</th>\n      <th>title_r</th>\n      <th>sentiment_f_transformers</th>\n      <th>sentiment_r_transformers</th>\n      <th>sentiment_f_textblob</th>\n      <th>sentiment_r_textblob</th>\n      <th>sentiment_f_natural</th>\n      <th>sentiment_r_natural</th>\n      <th>sentiment_f_sentiment</th>\n      <th>sentiment_r_sentiment</th>\n      <th>heuristics</th>\n    </tr>\n  </thead>\n  <tbody>\n    <tr>\n      <th>0</th>\n      <td>Bill Gates: “I think Donald Trump will go down...</td>\n      <td>No, Bill Gates didn't tweet Donald Trump will ...</td>\n      <td>1</td>\n      <td>-1</td>\n      <td>-1</td>\n      <td>-1</td>\n      <td>1</td>\n      <td>-1</td>\n      <td>1</td>\n      <td>1</td>\n      <td>True</td>\n    </tr>\n    <tr>\n      <th>1</th>\n      <td>Obama Orders Life-Sized Bronze Statute of Hims...</td>\n      <td>No, Former President Obama Didn't Build a Stat...</td>\n      <td>1</td>\n      <td>-1</td>\n      <td>0</td>\n      <td>0</td>\n      <td>0</td>\n      <td>0</td>\n      <td>0</td>\n      <td>-1</td>\n      <td>True</td>\n    </tr>\n    <tr>\n      <th>2</th>\n      <td>MITT ROMNEY: ‘TRUMP HAS SOME VERY SERIOUS EMOT...</td>\n      <td>NOT REAL NEWS: Mitt Romney did not call on Tru...</td>\n      <td>-1</td>\n      <td>-1</td>\n      <td>1</td>\n      <td>1</td>\n      <td>-1</td>\n      <td>1</td>\n      <td>-1</td>\n      <td>-1</td>\n      <td>False</td>\n    </tr>\n    <tr>\n      <th>3</th>\n      <td>FDA Announced That Vaccines Are Causing Autism</td>\n      <td>FDA did not issue new statement on vaccines an...</td>\n      <td>-1</td>\n      <td>-1</td>\n      <td>-1</td>\n      <td>0</td>\n      <td>0</td>\n      <td>0</td>\n      <td>0</td>\n      <td>0</td>\n      <td>False</td>\n    </tr>\n    <tr>\n      <th>4</th>\n      <td>Melania Trump Hired Exorcist To ‘Cleanse White...</td>\n      <td>First lady did not hire exorcist for White House</td>\n      <td>-1</td>\n      <td>-1</td>\n      <td>-1</td>\n      <td>0</td>\n      <td>0</td>\n      <td>0</td>\n      <td>0</td>\n      <td>0</td>\n      <td>False</td>\n    </tr>\n    <tr>\n      <th>...</th>\n      <td>...</td>\n      <td>...</td>\n      <td>...</td>\n      <td>...</td>\n      <td>...</td>\n      <td>...</td>\n      <td>...</td>\n      <td>...</td>\n      <td>...</td>\n      <td>...</td>\n      <td>...</td>\n    </tr>\n    <tr>\n      <th>439</th>\n      <td>Bowe Bergdahl wanders off during court-martial...</td>\n      <td>No, Bowe Bergdahl didn't wander off during court</td>\n      <td>-1</td>\n      <td>-1</td>\n      <td>0</td>\n      <td>0</td>\n      <td>0</td>\n      <td>0</td>\n      <td>0</td>\n      <td>-1</td>\n      <td>True</td>\n    </tr>\n    <tr>\n      <th>440</th>\n      <td>ISIS Lays Down Arms After Katy Perry’s Impassi...</td>\n      <td>No, ISIS didn't lay down its arms after Katy P...</td>\n      <td>-1</td>\n      <td>-1</td>\n      <td>1</td>\n      <td>1</td>\n      <td>1</td>\n      <td>-1</td>\n      <td>0</td>\n      <td>1</td>\n      <td>True</td>\n    </tr>\n    <tr>\n      <th>441</th>\n      <td>International Arrest Warrant Issued for George...</td>\n      <td>The Russian Government did not issue an arrest...</td>\n      <td>-1</td>\n      <td>-1</td>\n      <td>1</td>\n      <td>1</td>\n      <td>-1</td>\n      <td>1</td>\n      <td>-1</td>\n      <td>-1</td>\n      <td>False</td>\n    </tr>\n    <tr>\n      <th>442</th>\n      <td>Police Discover Meth Lab In Back Room of Alaba...</td>\n      <td>Meth lab in Walmart bathroom? Not the oddest p...</td>\n      <td>-1</td>\n      <td>1</td>\n      <td>0</td>\n      <td>0</td>\n      <td>1</td>\n      <td>0</td>\n      <td>0</td>\n      <td>0</td>\n      <td>False</td>\n    </tr>\n    <tr>\n      <th>443</th>\n      <td>Sarah Palin Calls To Boycott Mall Of America B...</td>\n      <td>Fake news site says Sarah Palin to boycott Mal...</td>\n      <td>-1</td>\n      <td>-1</td>\n      <td>1</td>\n      <td>0</td>\n      <td>-1</td>\n      <td>-1</td>\n      <td>-1</td>\n      <td>-1</td>\n      <td>True</td>\n    </tr>\n  </tbody>\n</table>\n<p>444 rows × 11 columns</p>\n</div>"
     },
     "execution_count": 84,
     "metadata": {},
     "output_type": "execute_result"
    }
   ],
   "source": [
    "dataset"
   ],
   "metadata": {
    "collapsed": false,
    "ExecuteTime": {
     "end_time": "2024-03-05T08:40:19.214910Z",
     "start_time": "2024-03-05T08:40:19.192474Z"
    }
   },
   "id": "d71845843f595b59"
  },
  {
   "cell_type": "code",
   "execution_count": 85,
   "outputs": [],
   "source": [
    "def polarity_pairs_evaluator(k1,k2):\n",
    "    counter_opposite_polarity = 0\n",
    "    counter_equals_polarity = 0\n",
    "    counter_neutral_polarity = 0\n",
    "    counter_both_positive = 0\n",
    "    counter_both_negative = 0\n",
    "    counter_both_neutral = 0\n",
    "    for item in dataset.iterrows():\n",
    "        if item[1][k1] + item[1][k2] == 0 and item[1][k1] != item[1][k2]:\n",
    "            counter_opposite_polarity += 1\n",
    "        elif item[1][k1] == item[1][k2]:\n",
    "            counter_equals_polarity += 1\n",
    "        else:\n",
    "            counter_neutral_polarity += 1\n",
    "        \n",
    "        if item[1][k1] + item[1][k2] == 2:\n",
    "            counter_both_positive += 1\n",
    "        elif item[1][k1] + item[1][k2] == -2:\n",
    "            counter_both_negative += 1\n",
    "        elif item[1][k1] == item[1][k2] == 0 :\n",
    "            counter_both_neutral += 1\n",
    "            \n",
    "            \n",
    "    \n",
    "    return counter_opposite_polarity, counter_equals_polarity, counter_neutral_polarity, counter_both_positive, counter_both_negative, counter_both_neutral\n",
    "        \n"
   ],
   "metadata": {
    "collapsed": false,
    "ExecuteTime": {
     "end_time": "2024-03-05T08:40:20.639509Z",
     "start_time": "2024-03-05T08:40:20.632170Z"
    }
   },
   "id": "8357989783832c3"
  },
  {
   "cell_type": "code",
   "execution_count": 86,
   "outputs": [
    {
     "data": {
      "text/plain": "Index(['title_f', 'title_r', 'sentiment_f_transformers',\n       'sentiment_r_transformers', 'sentiment_f_textblob',\n       'sentiment_r_textblob', 'sentiment_f_natural', 'sentiment_r_natural',\n       'sentiment_f_sentiment', 'sentiment_r_sentiment', 'heuristics'],\n      dtype='object')"
     },
     "execution_count": 86,
     "metadata": {},
     "output_type": "execute_result"
    }
   ],
   "source": [
    "dataset.keys()"
   ],
   "metadata": {
    "collapsed": false,
    "ExecuteTime": {
     "end_time": "2024-03-05T08:40:21.487515Z",
     "start_time": "2024-03-05T08:40:21.482258Z"
    }
   },
   "id": "8bc999e00747924d"
  },
  {
   "cell_type": "code",
   "execution_count": 128,
   "outputs": [
    {
     "name": "stdout",
     "output_type": "stream",
     "text": [
      "Transformer \n",
      "--------------\n",
      "Opposite: 157\n",
      "Equals: 287\n",
      "Neutral: 0\n",
      "Both Negative: 9\n",
      "Both Positive: 278\n",
      "Both Neutral: 0\n"
     ]
    }
   ],
   "source": [
    "opposite, equals, one_neutral, b_neg, b_pos, b_neu =  polarity_pairs_evaluator('sentiment_f_transformers', 'sentiment_r_transformers')\n",
    "print(\"Transformer \\n--------------\")\n",
    "print(\"Opposite: \"+str(opposite))\n",
    "print(\"Equals: \"+str(equals))\n",
    "print(\"Neutral: \"+str(one_neutral))\n",
    "print(\"Both Negative: \"+str(b_neg))\n",
    "print(\"Both Positive: \"+str(b_pos))\n",
    "print(\"Both Neutral: \"+str(b_neu))"
   ],
   "metadata": {
    "collapsed": false,
    "ExecuteTime": {
     "end_time": "2024-03-05T11:08:11.798408Z",
     "start_time": "2024-03-05T11:08:11.787553Z"
    }
   },
   "id": "33a02610c8896b30"
  },
  {
   "cell_type": "code",
   "execution_count": 129,
   "outputs": [
    {
     "name": "stdout",
     "output_type": "stream",
     "text": [
      "TextBlob \n",
      "--------------\n",
      "Opposite: 57\n",
      "Equals: 177\n",
      "Neutral: 210\n",
      "Both Negative: 56\n",
      "Both Positive: 30\n",
      "Both Neutral: 91\n"
     ]
    }
   ],
   "source": [
    "opposite, equals, one_neutral, b_neg, b_pos, b_neu =  polarity_pairs_evaluator('sentiment_f_textblob', 'sentiment_r_textblob')\n",
    "print(\"TextBlob \\n--------------\")\n",
    "print(\"Opposite: \"+str(opposite))\n",
    "print(\"Equals: \"+str(equals))\n",
    "print(\"Neutral: \"+str(one_neutral))\n",
    "print(\"Both Negative: \"+str(b_neg))\n",
    "print(\"Both Positive: \"+str(b_pos))\n",
    "print(\"Both Neutral: \"+str(b_neu))"
   ],
   "metadata": {
    "collapsed": false,
    "ExecuteTime": {
     "end_time": "2024-03-05T11:08:12.420468Z",
     "start_time": "2024-03-05T11:08:12.405468Z"
    }
   },
   "id": "fffbe8ea206bae91"
  },
  {
   "cell_type": "code",
   "execution_count": 130,
   "outputs": [
    {
     "name": "stdout",
     "output_type": "stream",
     "text": [
      "Natural \n",
      "--------------\n",
      "Opposite: 132\n",
      "Equals: 189\n",
      "Neutral: 123\n",
      "Both Negative: 21\n",
      "Both Positive: 127\n",
      "Both Neutral: 41\n"
     ]
    }
   ],
   "source": [
    "opposite, equals, one_neutral, b_neg, b_pos, b_neu =  polarity_pairs_evaluator('sentiment_f_natural', 'sentiment_r_natural')\n",
    "print(\"Natural \\n--------------\")\n",
    "print(\"Opposite: \"+str(opposite))\n",
    "print(\"Equals: \"+str(equals))\n",
    "print(\"Neutral: \"+str(one_neutral))\n",
    "print(\"Both Negative: \"+str(b_neg))\n",
    "print(\"Both Positive: \"+str(b_pos))\n",
    "print(\"Both Neutral: \"+str(b_neu))"
   ],
   "metadata": {
    "collapsed": false,
    "ExecuteTime": {
     "end_time": "2024-03-05T11:08:13.283960Z",
     "start_time": "2024-03-05T11:08:13.155027Z"
    }
   },
   "id": "cf4dd3959fa0fc7b"
  },
  {
   "cell_type": "code",
   "execution_count": 131,
   "outputs": [
    {
     "name": "stdout",
     "output_type": "stream",
     "text": [
      "Sentiment \n",
      "--------------\n",
      "Opposite: 46\n",
      "Equals: 228\n",
      "Neutral: 170\n",
      "Both Negative: 15\n",
      "Both Positive: 145\n",
      "Both Neutral: 68\n"
     ]
    }
   ],
   "source": [
    "opposite, equals, one_neutral, b_neg, b_pos, b_neu  =  polarity_pairs_evaluator('sentiment_f_sentiment', 'sentiment_r_sentiment')\n",
    "print(\"Sentiment \\n--------------\")\n",
    "print(\"Opposite: \"+str(opposite))\n",
    "print(\"Equals: \"+str(equals))\n",
    "print(\"Neutral: \"+str(one_neutral))\n",
    "print(\"Both Negative: \"+str(b_neg))\n",
    "print(\"Both Positive: \"+str(b_pos))\n",
    "print(\"Both Neutral: \"+str(b_neu))"
   ],
   "metadata": {
    "collapsed": false,
    "ExecuteTime": {
     "end_time": "2024-03-05T11:08:14.858667Z",
     "start_time": "2024-03-05T11:08:14.852856Z"
    }
   },
   "id": "faa1bdff9896ceb8"
  },
  {
   "cell_type": "markdown",
   "source": [
    "<h2> Considering all sentiment scores as unique value (sum) in range [-4,4]</h2>"
   ],
   "metadata": {
    "collapsed": false
   },
   "id": "c95053f888a5d933"
  },
  {
   "cell_type": "code",
   "execution_count": 145,
   "outputs": [],
   "source": [
    "sentiment_f_global = []\n",
    "sentiment_r_global = []\n",
    "\n",
    "for item in dataset.iterrows():\n",
    "    sentiment_f_global.append(item[1].sentiment_f_sentiment + item[1].sentiment_f_textblob + item[1].sentiment_f_natural + item[1].sentiment_f_transformers)\n",
    "    sentiment_r_global.append(item[1].sentiment_r_sentiment + item[1].sentiment_r_textblob + item[1].sentiment_r_natural + item[1].sentiment_r_transformers)\n",
    "    \n",
    "dataset['sentiment_f_global'] = sentiment_f_global\n",
    "dataset['sentiment_r_global'] = sentiment_r_global"
   ],
   "metadata": {
    "collapsed": false,
    "ExecuteTime": {
     "end_time": "2024-03-05T11:38:20.386117Z",
     "start_time": "2024-03-05T11:38:20.349087Z"
    }
   },
   "id": "ce417a5fbd60c370"
  },
  {
   "cell_type": "code",
   "execution_count": 146,
   "outputs": [
    {
     "data": {
      "text/plain": "     sentiment_f_global  sentiment_r_global\n0                     2                  -2\n1                     1                  -2\n2                    -2                   0\n3                    -2                  -1\n4                    -2                  -1\n..                  ...                 ...\n439                  -1                  -2\n440                   1                   0\n441                  -2                   0\n442                   0                   1\n443                  -2                  -3\n\n[444 rows x 2 columns]",
      "text/html": "<div>\n<style scoped>\n    .dataframe tbody tr th:only-of-type {\n        vertical-align: middle;\n    }\n\n    .dataframe tbody tr th {\n        vertical-align: top;\n    }\n\n    .dataframe thead th {\n        text-align: right;\n    }\n</style>\n<table border=\"1\" class=\"dataframe\">\n  <thead>\n    <tr style=\"text-align: right;\">\n      <th></th>\n      <th>sentiment_f_global</th>\n      <th>sentiment_r_global</th>\n    </tr>\n  </thead>\n  <tbody>\n    <tr>\n      <th>0</th>\n      <td>2</td>\n      <td>-2</td>\n    </tr>\n    <tr>\n      <th>1</th>\n      <td>1</td>\n      <td>-2</td>\n    </tr>\n    <tr>\n      <th>2</th>\n      <td>-2</td>\n      <td>0</td>\n    </tr>\n    <tr>\n      <th>3</th>\n      <td>-2</td>\n      <td>-1</td>\n    </tr>\n    <tr>\n      <th>4</th>\n      <td>-2</td>\n      <td>-1</td>\n    </tr>\n    <tr>\n      <th>...</th>\n      <td>...</td>\n      <td>...</td>\n    </tr>\n    <tr>\n      <th>439</th>\n      <td>-1</td>\n      <td>-2</td>\n    </tr>\n    <tr>\n      <th>440</th>\n      <td>1</td>\n      <td>0</td>\n    </tr>\n    <tr>\n      <th>441</th>\n      <td>-2</td>\n      <td>0</td>\n    </tr>\n    <tr>\n      <th>442</th>\n      <td>0</td>\n      <td>1</td>\n    </tr>\n    <tr>\n      <th>443</th>\n      <td>-2</td>\n      <td>-3</td>\n    </tr>\n  </tbody>\n</table>\n<p>444 rows × 2 columns</p>\n</div>"
     },
     "execution_count": 146,
     "metadata": {},
     "output_type": "execute_result"
    }
   ],
   "source": [
    "dataset[['sentiment_f_global','sentiment_r_global']]"
   ],
   "metadata": {
    "collapsed": false,
    "ExecuteTime": {
     "end_time": "2024-03-05T11:38:21.027196Z",
     "start_time": "2024-03-05T11:38:21.014587Z"
    }
   },
   "id": "8c2e28bc44c5d2ab"
  },
  {
   "cell_type": "code",
   "execution_count": 147,
   "outputs": [
    {
     "name": "stdout",
     "output_type": "stream",
     "text": [
      "{'8': 4, '7': 10, '6': 15, '5': 36, '4': 45, '3': 71, '2': 101, '1': 94, '0': 68}\n"
     ]
    }
   ],
   "source": [
    "# Compute distance betweeen real and fake global sentiments in absolute value\n",
    "frequency_distance = {\"8\":0, \"7\":0, \"6\":0, \"5\":0, \"4\":0, \"3\":0, \"2\":0, \"1\":0, \"0\":0}\n",
    "for item in dataset.iterrows():\n",
    "    frequency_distance[str(abs(item[1][\"sentiment_f_global\"] - item[1][\"sentiment_r_global\"]))] +=1\n",
    "print(frequency_distance)"
   ],
   "metadata": {
    "collapsed": false,
    "ExecuteTime": {
     "end_time": "2024-03-05T11:38:21.687352Z",
     "start_time": "2024-03-05T11:38:21.680941Z"
    }
   },
   "id": "23cacea8dab1ddf"
  },
  {
   "cell_type": "code",
   "execution_count": 148,
   "outputs": [
    {
     "name": "stderr",
     "output_type": "stream",
     "text": [
      "No artists with labels found to put in legend.  Note that artists whose label start with an underscore are ignored when legend() is called with no argument.\n"
     ]
    },
    {
     "data": {
      "text/plain": "<Figure size 640x480 with 1 Axes>",
      "image/png": "[encoded data removed]"
     },
     "metadata": {},
     "output_type": "display_data"
    },
    {
     "data": {
      "text/plain": "<Figure size 640x480 with 0 Axes>"
     },
     "metadata": {},
     "output_type": "display_data"
    }
   ],
   "source": [
    "import matplotlib.pyplot as plt\n",
    "\n",
    "fig, ax = plt.subplots()\n",
    "x = frequency_distance.keys()\n",
    "y = frequency_distance.values()\n",
    "ax.bar(x, y)\n",
    "ax.set_xlabel('Sentiment Distance (real-fake)')\n",
    "ax.set_ylabel('Frequency')\n",
    "ax.set_title('Sentiment Distance between pairs real-fake')\n",
    "ax.legend(title='8: Very Distant , 0: Very Close')\n",
    "\n",
    "fig = plt.gcf()\n",
    "plt.show()\n",
    "plt.draw()\n",
    "fig.savefig(\"sentiment_distance.png\")"
   ],
   "metadata": {
    "collapsed": false,
    "ExecuteTime": {
     "end_time": "2024-03-05T11:38:22.403721Z",
     "start_time": "2024-03-05T11:38:22.258820Z"
    }
   },
   "id": "8713c4325d880ef2"
  },
  {
   "cell_type": "code",
   "execution_count": 149,
   "outputs": [
    {
     "name": "stdout",
     "output_type": "stream",
     "text": [
      "{'-4': 18, '-3': 59, '-2': 112, '-1': 62, '0': 63, '1': 54, '2': 42, '3': 22, '4': 12}\n"
     ]
    }
   ],
   "source": [
    "frequency_sentiment_fake = {\"-4\":0, \"-3\":0, \"-2\":0, \"-1\":0, \"0\":0, \"1\":0, \"2\":0, \"3\":0, \"4\":0}\n",
    "for item in dataset.iterrows():\n",
    "    frequency_sentiment_fake[str(item[1][\"sentiment_f_global\"])] +=1\n",
    "print(frequency_sentiment_fake)"
   ],
   "metadata": {
    "collapsed": false,
    "ExecuteTime": {
     "end_time": "2024-03-05T11:38:23.787338Z",
     "start_time": "2024-03-05T11:38:23.715471Z"
    }
   },
   "id": "431bccbcf83de6c1"
  },
  {
   "cell_type": "code",
   "execution_count": 151,
   "outputs": [
    {
     "name": "stdout",
     "output_type": "stream",
     "text": [
      "{'-4': 43, '-3': 121, '-2': 103, '-1': 75, '0': 51, '1': 22, '2': 19, '3': 6, '4': 4}\n"
     ]
    }
   ],
   "source": [
    "frequency_sentiment_real = {\"-4\":0, \"-3\":0, \"-2\":0, \"-1\":0, \"0\":0, \"1\":0, \"2\":0, \"3\":0, \"4\":0}\n",
    "for item in dataset.iterrows():\n",
    "    frequency_sentiment_real[str(item[1][\"sentiment_r_global\"])] +=1\n",
    "print(frequency_sentiment_real)"
   ],
   "metadata": {
    "collapsed": false,
    "ExecuteTime": {
     "end_time": "2024-03-05T11:38:25.416402Z",
     "start_time": "2024-03-05T11:38:25.408747Z"
    }
   },
   "id": "c3dd9f5b02b4c95d"
  },
  {
   "cell_type": "code",
   "execution_count": 168,
   "outputs": [
    {
     "data": {
      "text/plain": "<Figure size 640x480 with 1 Axes>",
      "image/png": "[encoded data removed]"
     },
     "metadata": {},
     "output_type": "display_data"
    },
    {
     "data": {
      "text/plain": "<Figure size 640x480 with 0 Axes>"
     },
     "metadata": {},
     "output_type": "display_data"
    }
   ],
   "source": [
    "# data from https://allisonhorst.github.io/palmerpenguins/\n",
    "\n",
    "import matplotlib.pyplot as plt\n",
    "import numpy as np\n",
    "\n",
    "species = frequency_sentiment_fake.keys()\n",
    "penguin_means = {\n",
    "    'Real': frequency_sentiment_real.values(),\n",
    "    'Fake': frequency_sentiment_fake.values()\n",
    "}\n",
    "bar_labels = ['red', 'blue']\n",
    "x = np.arange(len(species))  # the label locations\n",
    "width = 0.25  # the width of the bars\n",
    "multiplier = 0\n",
    "\n",
    "fig, ax = plt.subplots(layout='constrained')\n",
    "\n",
    "for attribute, measurement in penguin_means.items():\n",
    "    offset = width * multiplier\n",
    "    rects = ax.bar(x + offset, measurement, width, label=attribute)\n",
    "    multiplier += 1\n",
    "\n",
    "# Add some text for labels, title and custom x-axis tick labels, etc.\n",
    "\n",
    "ax.set_xticks(x + width, species)\n",
    "ax.set_xlabel('Sentiment [-4: Hightly Negative, 4: Hightly Positive]')\n",
    "ax.set_ylabel('Frequency')\n",
    "ax.set_title('')\n",
    "ax.legend(title='News')\n",
    "\n",
    "fig = plt.gcf()\n",
    "plt.show()\n",
    "plt.draw()\n",
    "fig.savefig(\"sentiment_frequency.png\")"
   ],
   "metadata": {
    "collapsed": false,
    "ExecuteTime": {
     "end_time": "2024-03-05T11:51:40.990224Z",
     "start_time": "2024-03-05T11:51:40.808552Z"
    }
   },
   "id": "8ea931c434bb5a6a"
  },
  {
   "cell_type": "markdown",
   "source": [
    "<h2>\"Per motivare il sentiment negativo delle real news, verifichiamo la presenza delle euristiche\"</h2>\n"
   ],
   "metadata": {
    "collapsed": false
   },
   "id": "dc77b70044978332"
  },
  {
   "cell_type": "code",
   "execution_count": 175,
   "outputs": [
    {
     "data": {
      "text/plain": "236"
     },
     "execution_count": 175,
     "metadata": {},
     "output_type": "execute_result"
    }
   ],
   "source": [
    "len(dataset[dataset[\"heuristics\"]== True])"
   ],
   "metadata": {
    "collapsed": false,
    "ExecuteTime": {
     "end_time": "2024-03-05T11:54:46.772068Z",
     "start_time": "2024-03-05T11:54:46.749220Z"
    }
   },
   "id": "f1290cb97a40293f"
  },
  {
   "cell_type": "code",
   "execution_count": 175,
   "outputs": [],
   "source": [],
   "metadata": {
    "collapsed": false,
    "ExecuteTime": {
     "end_time": "2024-03-05T11:54:54.845801Z",
     "start_time": "2024-03-05T11:54:54.798718Z"
    }
   },
   "id": "5360982a5ea5fe1a"
  },
  {
   "cell_type": "code",
   "execution_count": null,
   "outputs": [],
   "source": [],
   "metadata": {
    "collapsed": false
   },
   "id": "e20f2a788d32fa18"
  }
 ],
 "metadata": {
  "kernelspec": {
   "display_name": "Python 3",
   "language": "python",
   "name": "python3"
  },
  "language_info": {
   "codemirror_mode": {
    "name": "ipython",
    "version": 2
   },
   "file_extension": ".py",
   "mimetype": "text/x-python",
   "name": "python",
   "nbconvert_exporter": "python",
   "pygments_lexer": "ipython2",
   "version": "2.7.6"
  }
 },
 "nbformat": 4,
 "nbformat_minor": 5
}
