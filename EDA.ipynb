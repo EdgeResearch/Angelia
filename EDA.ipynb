{
 "cells": [
  {
   "cell_type": "code",
   "execution_count": 2,
   "id": "initial_id",
   "metadata": {
    "collapsed": true,
    "ExecuteTime": {
     "end_time": "2024-03-05T00:17:31.278287Z",
     "start_time": "2024-03-05T00:17:25.378300Z"
    }
   },
   "outputs": [],
   "source": [
    "import pandas as pd"
   ]
  },
  {
   "cell_type": "code",
   "execution_count": 3,
   "outputs": [],
   "source": [
    "dataset = pd.read_csv(\"datasets/dataset_sentiments.csv\")"
   ],
   "metadata": {
    "collapsed": false,
    "ExecuteTime": {
     "end_time": "2024-03-05T00:18:23.134222Z",
     "start_time": "2024-03-05T00:18:22.937944Z"
    }
   },
   "id": "fba4f220cc72a704"
  },
  {
   "cell_type": "code",
   "execution_count": 4,
   "outputs": [
    {
     "data": {
      "text/plain": "                                               title_f  \\\n0    Bill Gates: “I think Donald Trump will go down...   \n1    Obama Orders Life-Sized Bronze Statute of Hims...   \n2    MITT ROMNEY: ‘TRUMP HAS SOME VERY SERIOUS EMOT...   \n3       FDA Announced That Vaccines Are Causing Autism   \n4    Melania Trump Hired Exorcist To ‘Cleanse White...   \n..                                                 ...   \n439  Bowe Bergdahl wanders off during court-martial...   \n440  ISIS Lays Down Arms After Katy Perry’s Impassi...   \n441  International Arrest Warrant Issued for George...   \n442  Police Discover Meth Lab In Back Room of Alaba...   \n443  Sarah Palin Calls To Boycott Mall Of America B...   \n\n                                               title_r  \\\n0    No, Bill Gates didn't tweet Donald Trump will ...   \n1    No, Former President Obama Didn't Build a Stat...   \n2    NOT REAL NEWS: Mitt Romney did not call on Tru...   \n3    FDA did not issue new statement on vaccines an...   \n4     First lady did not hire exorcist for White House   \n..                                                 ...   \n439  No, Bowe Bergdahl didn't wander off during court    \n440  No, ISIS didn't lay down its arms after Katy P...   \n441  The Russian Government did not issue an arrest...   \n442  Meth lab in Walmart bathroom? Not the oddest p...   \n443  Fake news site says Sarah Palin to boycott Mal...   \n\n    sentiment_f_transformers sentiment_r_transformers sentiment_f_textblob  \\\n0                   POSITIVE                 NEGATIVE             NEGATIVE   \n1                   POSITIVE                 NEGATIVE              NEUTRAL   \n2                   NEGATIVE                 NEGATIVE             POSITIVE   \n3                   NEGATIVE                 NEGATIVE             NEGATIVE   \n4                   NEGATIVE                 NEGATIVE             NEGATIVE   \n..                       ...                      ...                  ...   \n439                 NEGATIVE                 NEGATIVE              NEUTRAL   \n440                 NEGATIVE                 NEGATIVE             POSITIVE   \n441                 NEGATIVE                 NEGATIVE             POSITIVE   \n442                 NEGATIVE                 POSITIVE              NEUTRAL   \n443                 NEGATIVE                 NEGATIVE             POSITIVE   \n\n    sentiment_r_textblob sentiment_f_natural sentiment_r_natural  \\\n0               NEGATIVE            POSITIVE            NEGATIVE   \n1                NEUTRAL             NEUTRAL             NEUTRAL   \n2               POSITIVE            NEGATIVE            POSITIVE   \n3                NEUTRAL             NEUTRAL             NEUTRAL   \n4                NEUTRAL             NEUTRAL             NEUTRAL   \n..                   ...                 ...                 ...   \n439              NEUTRAL             NEUTRAL             NEUTRAL   \n440             POSITIVE            POSITIVE            NEGATIVE   \n441             POSITIVE            NEGATIVE            POSITIVE   \n442              NEUTRAL            POSITIVE             NEUTRAL   \n443              NEUTRAL            NEGATIVE            NEGATIVE   \n\n    sentiment_f_sentiment sentiment_r_sentiment  heuristics  \n0                 NEUTRAL               NEUTRAL        True  \n1                 NEUTRAL               NEUTRAL        True  \n2                 NEUTRAL               NEUTRAL       False  \n3                 NEUTRAL               NEUTRAL       False  \n4                 NEUTRAL               NEUTRAL       False  \n..                    ...                   ...         ...  \n439               NEUTRAL               NEUTRAL        True  \n440               NEUTRAL               NEUTRAL        True  \n441               NEUTRAL               NEUTRAL       False  \n442               NEUTRAL               NEUTRAL       False  \n443               NEUTRAL               NEUTRAL        True  \n\n[444 rows x 11 columns]",
      "text/html": "<div>\n<style scoped>\n    .dataframe tbody tr th:only-of-type {\n        vertical-align: middle;\n    }\n\n    .dataframe tbody tr th {\n        vertical-align: top;\n    }\n\n    .dataframe thead th {\n        text-align: right;\n    }\n</style>\n<table border=\"1\" class=\"dataframe\">\n  <thead>\n    <tr style=\"text-align: right;\">\n      <th></th>\n      <th>title_f</th>\n      <th>title_r</th>\n      <th>sentiment_f_transformers</th>\n      <th>sentiment_r_transformers</th>\n      <th>sentiment_f_textblob</th>\n      <th>sentiment_r_textblob</th>\n      <th>sentiment_f_natural</th>\n      <th>sentiment_r_natural</th>\n      <th>sentiment_f_sentiment</th>\n      <th>sentiment_r_sentiment</th>\n      <th>heuristics</th>\n    </tr>\n  </thead>\n  <tbody>\n    <tr>\n      <th>0</th>\n      <td>Bill Gates: “I think Donald Trump will go down...</td>\n      <td>No, Bill Gates didn't tweet Donald Trump will ...</td>\n      <td>POSITIVE</td>\n      <td>NEGATIVE</td>\n      <td>NEGATIVE</td>\n      <td>NEGATIVE</td>\n      <td>POSITIVE</td>\n      <td>NEGATIVE</td>\n      <td>NEUTRAL</td>\n      <td>NEUTRAL</td>\n      <td>True</td>\n    </tr>\n    <tr>\n      <th>1</th>\n      <td>Obama Orders Life-Sized Bronze Statute of Hims...</td>\n      <td>No, Former President Obama Didn't Build a Stat...</td>\n      <td>POSITIVE</td>\n      <td>NEGATIVE</td>\n      <td>NEUTRAL</td>\n      <td>NEUTRAL</td>\n      <td>NEUTRAL</td>\n      <td>NEUTRAL</td>\n      <td>NEUTRAL</td>\n      <td>NEUTRAL</td>\n      <td>True</td>\n    </tr>\n    <tr>\n      <th>2</th>\n      <td>MITT ROMNEY: ‘TRUMP HAS SOME VERY SERIOUS EMOT...</td>\n      <td>NOT REAL NEWS: Mitt Romney did not call on Tru...</td>\n      <td>NEGATIVE</td>\n      <td>NEGATIVE</td>\n      <td>POSITIVE</td>\n      <td>POSITIVE</td>\n      <td>NEGATIVE</td>\n      <td>POSITIVE</td>\n      <td>NEUTRAL</td>\n      <td>NEUTRAL</td>\n      <td>False</td>\n    </tr>\n    <tr>\n      <th>3</th>\n      <td>FDA Announced That Vaccines Are Causing Autism</td>\n      <td>FDA did not issue new statement on vaccines an...</td>\n      <td>NEGATIVE</td>\n      <td>NEGATIVE</td>\n      <td>NEGATIVE</td>\n      <td>NEUTRAL</td>\n      <td>NEUTRAL</td>\n      <td>NEUTRAL</td>\n      <td>NEUTRAL</td>\n      <td>NEUTRAL</td>\n      <td>False</td>\n    </tr>\n    <tr>\n      <th>4</th>\n      <td>Melania Trump Hired Exorcist To ‘Cleanse White...</td>\n      <td>First lady did not hire exorcist for White House</td>\n      <td>NEGATIVE</td>\n      <td>NEGATIVE</td>\n      <td>NEGATIVE</td>\n      <td>NEUTRAL</td>\n      <td>NEUTRAL</td>\n      <td>NEUTRAL</td>\n      <td>NEUTRAL</td>\n      <td>NEUTRAL</td>\n      <td>False</td>\n    </tr>\n    <tr>\n      <th>...</th>\n      <td>...</td>\n      <td>...</td>\n      <td>...</td>\n      <td>...</td>\n      <td>...</td>\n      <td>...</td>\n      <td>...</td>\n      <td>...</td>\n      <td>...</td>\n      <td>...</td>\n      <td>...</td>\n    </tr>\n    <tr>\n      <th>439</th>\n      <td>Bowe Bergdahl wanders off during court-martial...</td>\n      <td>No, Bowe Bergdahl didn't wander off during court</td>\n      <td>NEGATIVE</td>\n      <td>NEGATIVE</td>\n      <td>NEUTRAL</td>\n      <td>NEUTRAL</td>\n      <td>NEUTRAL</td>\n      <td>NEUTRAL</td>\n      <td>NEUTRAL</td>\n      <td>NEUTRAL</td>\n      <td>True</td>\n    </tr>\n    <tr>\n      <th>440</th>\n      <td>ISIS Lays Down Arms After Katy Perry’s Impassi...</td>\n      <td>No, ISIS didn't lay down its arms after Katy P...</td>\n      <td>NEGATIVE</td>\n      <td>NEGATIVE</td>\n      <td>POSITIVE</td>\n      <td>POSITIVE</td>\n      <td>POSITIVE</td>\n      <td>NEGATIVE</td>\n      <td>NEUTRAL</td>\n      <td>NEUTRAL</td>\n      <td>True</td>\n    </tr>\n    <tr>\n      <th>441</th>\n      <td>International Arrest Warrant Issued for George...</td>\n      <td>The Russian Government did not issue an arrest...</td>\n      <td>NEGATIVE</td>\n      <td>NEGATIVE</td>\n      <td>POSITIVE</td>\n      <td>POSITIVE</td>\n      <td>NEGATIVE</td>\n      <td>POSITIVE</td>\n      <td>NEUTRAL</td>\n      <td>NEUTRAL</td>\n      <td>False</td>\n    </tr>\n    <tr>\n      <th>442</th>\n      <td>Police Discover Meth Lab In Back Room of Alaba...</td>\n      <td>Meth lab in Walmart bathroom? Not the oddest p...</td>\n      <td>NEGATIVE</td>\n      <td>POSITIVE</td>\n      <td>NEUTRAL</td>\n      <td>NEUTRAL</td>\n      <td>POSITIVE</td>\n      <td>NEUTRAL</td>\n      <td>NEUTRAL</td>\n      <td>NEUTRAL</td>\n      <td>False</td>\n    </tr>\n    <tr>\n      <th>443</th>\n      <td>Sarah Palin Calls To Boycott Mall Of America B...</td>\n      <td>Fake news site says Sarah Palin to boycott Mal...</td>\n      <td>NEGATIVE</td>\n      <td>NEGATIVE</td>\n      <td>POSITIVE</td>\n      <td>NEUTRAL</td>\n      <td>NEGATIVE</td>\n      <td>NEGATIVE</td>\n      <td>NEUTRAL</td>\n      <td>NEUTRAL</td>\n      <td>True</td>\n    </tr>\n  </tbody>\n</table>\n<p>444 rows × 11 columns</p>\n</div>"
     },
     "execution_count": 4,
     "metadata": {},
     "output_type": "execute_result"
    }
   ],
   "source": [
    "dataset"
   ],
   "metadata": {
    "collapsed": false,
    "ExecuteTime": {
     "end_time": "2024-03-05T00:18:29.249641Z",
     "start_time": "2024-03-05T00:18:28.867667Z"
    }
   },
   "id": "7ef35f7e2c49add5"
  },
  {
   "cell_type": "code",
   "execution_count": 14,
   "outputs": [],
   "source": [
    "pd.set_option('future.no_silent_downcasting', True)\n",
    "for k in dataset.keys():\n",
    "    dataset[k] = dataset[k].replace({\"POSITIVE\" : 1, \"NEUTRAL\" : 0, \"NEGATIVE\" : -1})"
   ],
   "metadata": {
    "collapsed": false,
    "ExecuteTime": {
     "end_time": "2024-03-05T00:33:06.157799Z",
     "start_time": "2024-03-05T00:33:05.694548Z"
    }
   },
   "id": "61d20b8638b640a"
  },
  {
   "cell_type": "code",
   "execution_count": 15,
   "outputs": [
    {
     "data": {
      "text/plain": "                                               title_f  \\\n0    Bill Gates: “I think Donald Trump will go down...   \n1    Obama Orders Life-Sized Bronze Statute of Hims...   \n2    MITT ROMNEY: ‘TRUMP HAS SOME VERY SERIOUS EMOT...   \n3       FDA Announced That Vaccines Are Causing Autism   \n4    Melania Trump Hired Exorcist To ‘Cleanse White...   \n..                                                 ...   \n439  Bowe Bergdahl wanders off during court-martial...   \n440  ISIS Lays Down Arms After Katy Perry’s Impassi...   \n441  International Arrest Warrant Issued for George...   \n442  Police Discover Meth Lab In Back Room of Alaba...   \n443  Sarah Palin Calls To Boycott Mall Of America B...   \n\n                                               title_r  \\\n0    No, Bill Gates didn't tweet Donald Trump will ...   \n1    No, Former President Obama Didn't Build a Stat...   \n2    NOT REAL NEWS: Mitt Romney did not call on Tru...   \n3    FDA did not issue new statement on vaccines an...   \n4     First lady did not hire exorcist for White House   \n..                                                 ...   \n439  No, Bowe Bergdahl didn't wander off during court    \n440  No, ISIS didn't lay down its arms after Katy P...   \n441  The Russian Government did not issue an arrest...   \n442  Meth lab in Walmart bathroom? Not the oddest p...   \n443  Fake news site says Sarah Palin to boycott Mal...   \n\n     sentiment_f_transformers  sentiment_r_transformers  sentiment_f_textblob  \\\n0                           1                        -1                    -1   \n1                           1                        -1                     0   \n2                          -1                        -1                     1   \n3                          -1                        -1                    -1   \n4                          -1                        -1                    -1   \n..                        ...                       ...                   ...   \n439                        -1                        -1                     0   \n440                        -1                        -1                     1   \n441                        -1                        -1                     1   \n442                        -1                         1                     0   \n443                        -1                        -1                     1   \n\n     sentiment_r_textblob  sentiment_f_natural  sentiment_r_natural  \\\n0                      -1                    1                   -1   \n1                       0                    0                    0   \n2                       1                   -1                    1   \n3                       0                    0                    0   \n4                       0                    0                    0   \n..                    ...                  ...                  ...   \n439                     0                    0                    0   \n440                     1                    1                   -1   \n441                     1                   -1                    1   \n442                     0                    1                    0   \n443                     0                   -1                   -1   \n\n     sentiment_f_sentiment  sentiment_r_sentiment  heuristics  \n0                        0                      0        True  \n1                        0                      0        True  \n2                        0                      0       False  \n3                        0                      0       False  \n4                        0                      0       False  \n..                     ...                    ...         ...  \n439                      0                      0        True  \n440                      0                      0        True  \n441                      0                      0       False  \n442                      0                      0       False  \n443                      0                      0        True  \n\n[444 rows x 11 columns]",
      "text/html": "<div>\n<style scoped>\n    .dataframe tbody tr th:only-of-type {\n        vertical-align: middle;\n    }\n\n    .dataframe tbody tr th {\n        vertical-align: top;\n    }\n\n    .dataframe thead th {\n        text-align: right;\n    }\n</style>\n<table border=\"1\" class=\"dataframe\">\n  <thead>\n    <tr style=\"text-align: right;\">\n      <th></th>\n      <th>title_f</th>\n      <th>title_r</th>\n      <th>sentiment_f_transformers</th>\n      <th>sentiment_r_transformers</th>\n      <th>sentiment_f_textblob</th>\n      <th>sentiment_r_textblob</th>\n      <th>sentiment_f_natural</th>\n      <th>sentiment_r_natural</th>\n      <th>sentiment_f_sentiment</th>\n      <th>sentiment_r_sentiment</th>\n      <th>heuristics</th>\n    </tr>\n  </thead>\n  <tbody>\n    <tr>\n      <th>0</th>\n      <td>Bill Gates: “I think Donald Trump will go down...</td>\n      <td>No, Bill Gates didn't tweet Donald Trump will ...</td>\n      <td>1</td>\n      <td>-1</td>\n      <td>-1</td>\n      <td>-1</td>\n      <td>1</td>\n      <td>-1</td>\n      <td>0</td>\n      <td>0</td>\n      <td>True</td>\n    </tr>\n    <tr>\n      <th>1</th>\n      <td>Obama Orders Life-Sized Bronze Statute of Hims...</td>\n      <td>No, Former President Obama Didn't Build a Stat...</td>\n      <td>1</td>\n      <td>-1</td>\n      <td>0</td>\n      <td>0</td>\n      <td>0</td>\n      <td>0</td>\n      <td>0</td>\n      <td>0</td>\n      <td>True</td>\n    </tr>\n    <tr>\n      <th>2</th>\n      <td>MITT ROMNEY: ‘TRUMP HAS SOME VERY SERIOUS EMOT...</td>\n      <td>NOT REAL NEWS: Mitt Romney did not call on Tru...</td>\n      <td>-1</td>\n      <td>-1</td>\n      <td>1</td>\n      <td>1</td>\n      <td>-1</td>\n      <td>1</td>\n      <td>0</td>\n      <td>0</td>\n      <td>False</td>\n    </tr>\n    <tr>\n      <th>3</th>\n      <td>FDA Announced That Vaccines Are Causing Autism</td>\n      <td>FDA did not issue new statement on vaccines an...</td>\n      <td>-1</td>\n      <td>-1</td>\n      <td>-1</td>\n      <td>0</td>\n      <td>0</td>\n      <td>0</td>\n      <td>0</td>\n      <td>0</td>\n      <td>False</td>\n    </tr>\n    <tr>\n      <th>4</th>\n      <td>Melania Trump Hired Exorcist To ‘Cleanse White...</td>\n      <td>First lady did not hire exorcist for White House</td>\n      <td>-1</td>\n      <td>-1</td>\n      <td>-1</td>\n      <td>0</td>\n      <td>0</td>\n      <td>0</td>\n      <td>0</td>\n      <td>0</td>\n      <td>False</td>\n    </tr>\n    <tr>\n      <th>...</th>\n      <td>...</td>\n      <td>...</td>\n      <td>...</td>\n      <td>...</td>\n      <td>...</td>\n      <td>...</td>\n      <td>...</td>\n      <td>...</td>\n      <td>...</td>\n      <td>...</td>\n      <td>...</td>\n    </tr>\n    <tr>\n      <th>439</th>\n      <td>Bowe Bergdahl wanders off during court-martial...</td>\n      <td>No, Bowe Bergdahl didn't wander off during court</td>\n      <td>-1</td>\n      <td>-1</td>\n      <td>0</td>\n      <td>0</td>\n      <td>0</td>\n      <td>0</td>\n      <td>0</td>\n      <td>0</td>\n      <td>True</td>\n    </tr>\n    <tr>\n      <th>440</th>\n      <td>ISIS Lays Down Arms After Katy Perry’s Impassi...</td>\n      <td>No, ISIS didn't lay down its arms after Katy P...</td>\n      <td>-1</td>\n      <td>-1</td>\n      <td>1</td>\n      <td>1</td>\n      <td>1</td>\n      <td>-1</td>\n      <td>0</td>\n      <td>0</td>\n      <td>True</td>\n    </tr>\n    <tr>\n      <th>441</th>\n      <td>International Arrest Warrant Issued for George...</td>\n      <td>The Russian Government did not issue an arrest...</td>\n      <td>-1</td>\n      <td>-1</td>\n      <td>1</td>\n      <td>1</td>\n      <td>-1</td>\n      <td>1</td>\n      <td>0</td>\n      <td>0</td>\n      <td>False</td>\n    </tr>\n    <tr>\n      <th>442</th>\n      <td>Police Discover Meth Lab In Back Room of Alaba...</td>\n      <td>Meth lab in Walmart bathroom? Not the oddest p...</td>\n      <td>-1</td>\n      <td>1</td>\n      <td>0</td>\n      <td>0</td>\n      <td>1</td>\n      <td>0</td>\n      <td>0</td>\n      <td>0</td>\n      <td>False</td>\n    </tr>\n    <tr>\n      <th>443</th>\n      <td>Sarah Palin Calls To Boycott Mall Of America B...</td>\n      <td>Fake news site says Sarah Palin to boycott Mal...</td>\n      <td>-1</td>\n      <td>-1</td>\n      <td>1</td>\n      <td>0</td>\n      <td>-1</td>\n      <td>-1</td>\n      <td>0</td>\n      <td>0</td>\n      <td>True</td>\n    </tr>\n  </tbody>\n</table>\n<p>444 rows × 11 columns</p>\n</div>"
     },
     "execution_count": 15,
     "metadata": {},
     "output_type": "execute_result"
    }
   ],
   "source": [
    "dataset"
   ],
   "metadata": {
    "collapsed": false,
    "ExecuteTime": {
     "end_time": "2024-03-05T00:33:08.252915Z",
     "start_time": "2024-03-05T00:33:08.244239Z"
    }
   },
   "id": "d71845843f595b59"
  },
  {
   "cell_type": "code",
   "execution_count": 59,
   "outputs": [],
   "source": [
    "def polarity_pairs_evaluator(k1,k2):\n",
    "    counter_opposite_polarity = 0\n",
    "    counter_equals_polarity = 0\n",
    "    counter_neutral_polarity = 0\n",
    "    counter_both_positive = 0\n",
    "    counter_both_negative = 0\n",
    "    counter_both_neutral = 0\n",
    "    for item in dataset.iterrows():\n",
    "        if item[1][k1] + item[1][k2] == 0 and item[1][k1] != item[1][k2]:\n",
    "            counter_opposite_polarity += 1\n",
    "        elif item[1][k1] == item[1][k2]:\n",
    "            counter_equals_polarity += 1\n",
    "        else:\n",
    "            counter_neutral_polarity += 1\n",
    "        \n",
    "        if item[1][k1] + item[1][k2] == 2:\n",
    "            counter_both_positive += 1\n",
    "        elif item[1][k1] + item[1][k2] == -2:\n",
    "            counter_both_negative += 1\n",
    "        elif item[1][k1] == item[1][k2] == 0 :\n",
    "            counter_both_neutral += 1\n",
    "            \n",
    "            \n",
    "    \n",
    "    return counter_opposite_polarity, counter_equals_polarity, counter_neutral_polarity, counter_both_positive, counter_both_negative, counter_both_neutral\n",
    "        \n"
   ],
   "metadata": {
    "collapsed": false,
    "ExecuteTime": {
     "end_time": "2024-03-05T01:10:35.944475Z",
     "start_time": "2024-03-05T01:10:35.931235Z"
    }
   },
   "id": "8357989783832c3"
  },
  {
   "cell_type": "code",
   "execution_count": 60,
   "outputs": [
    {
     "data": {
      "text/plain": "Index(['title_f', 'title_r', 'sentiment_f_transformers',\n       'sentiment_r_transformers', 'sentiment_f_textblob',\n       'sentiment_r_textblob', 'sentiment_f_natural', 'sentiment_r_natural',\n       'sentiment_f_sentiment', 'sentiment_r_sentiment', 'heuristics'],\n      dtype='object')"
     },
     "execution_count": 60,
     "metadata": {},
     "output_type": "execute_result"
    }
   ],
   "source": [
    "dataset.keys()"
   ],
   "metadata": {
    "collapsed": false,
    "ExecuteTime": {
     "end_time": "2024-03-05T01:10:36.659096Z",
     "start_time": "2024-03-05T01:10:36.656331Z"
    }
   },
   "id": "8bc999e00747924d"
  },
  {
   "cell_type": "code",
   "execution_count": 61,
   "outputs": [
    {
     "name": "stdout",
     "output_type": "stream",
     "text": [
      "Transformer\n",
      "Opposite: 157\n",
      "Equals: 287\n",
      "Neutral: 0\n",
      "Both Negative: 9\n",
      "Both Positive: 278\n",
      "Both Neutral: 0\n"
     ]
    }
   ],
   "source": [
    "opposite, equals, one_neutral, b_neg, b_pos, b_neu =  polarity_pairs_evaluator('sentiment_f_transformers', 'sentiment_r_transformers')\n",
    "print(\"Transformer\")\n",
    "print(\"Opposite: \"+str(opposite))\n",
    "print(\"Equals: \"+str(equals))\n",
    "print(\"Neutral: \"+str(one_neutral))\n",
    "print(\"Both Negative: \"+str(b_neg))\n",
    "print(\"Both Positive: \"+str(b_pos))\n",
    "print(\"Both Neutral: \"+str(b_neu))"
   ],
   "metadata": {
    "collapsed": false,
    "ExecuteTime": {
     "end_time": "2024-03-05T01:10:37.355928Z",
     "start_time": "2024-03-05T01:10:37.353356Z"
    }
   },
   "id": "33a02610c8896b30"
  },
  {
   "cell_type": "code",
   "execution_count": 62,
   "outputs": [
    {
     "name": "stdout",
     "output_type": "stream",
     "text": [
      "TextBlob\n",
      "Opposite: 57\n",
      "Equals: 177\n",
      "Neutral: 210\n",
      "Both Negative: 56\n",
      "Both Positive: 30\n",
      "Both Neutral: 91\n"
     ]
    }
   ],
   "source": [
    "opposite, equals, one_neutral, b_neg, b_pos, b_neu =  polarity_pairs_evaluator('sentiment_f_textblob', 'sentiment_r_textblob')\n",
    "print(\"TextBlob\")\n",
    "print(\"Opposite: \"+str(opposite))\n",
    "print(\"Equals: \"+str(equals))\n",
    "print(\"Neutral: \"+str(one_neutral))\n",
    "print(\"Both Negative: \"+str(b_neg))\n",
    "print(\"Both Positive: \"+str(b_pos))\n",
    "print(\"Both Neutral: \"+str(b_neu))"
   ],
   "metadata": {
    "collapsed": false,
    "ExecuteTime": {
     "end_time": "2024-03-05T01:10:39.015330Z",
     "start_time": "2024-03-05T01:10:38.996653Z"
    }
   },
   "id": "fffbe8ea206bae91"
  },
  {
   "cell_type": "code",
   "execution_count": 63,
   "outputs": [
    {
     "name": "stdout",
     "output_type": "stream",
     "text": [
      "Natural\n",
      "Opposite: 132\n",
      "Equals: 189\n",
      "Neutral: 123\n",
      "Both Negative: 21\n",
      "Both Positive: 127\n",
      "Both Neutral: 41\n"
     ]
    }
   ],
   "source": [
    "opposite, equals, one_neutral, b_neg, b_pos, b_neu =  polarity_pairs_evaluator('sentiment_f_natural', 'sentiment_r_natural')\n",
    "print(\"Natural\")\n",
    "print(\"Opposite: \"+str(opposite))\n",
    "print(\"Equals: \"+str(equals))\n",
    "print(\"Neutral: \"+str(one_neutral))\n",
    "print(\"Both Negative: \"+str(b_neg))\n",
    "print(\"Both Positive: \"+str(b_pos))\n",
    "print(\"Both Neutral: \"+str(b_neu))"
   ],
   "metadata": {
    "collapsed": false,
    "ExecuteTime": {
     "end_time": "2024-03-05T01:10:46.384764Z",
     "start_time": "2024-03-05T01:10:46.381924Z"
    }
   },
   "id": "cf4dd3959fa0fc7b"
  },
  {
   "cell_type": "code",
   "execution_count": 64,
   "outputs": [
    {
     "name": "stdout",
     "output_type": "stream",
     "text": [
      "Sentiment\n",
      "Opposite: 0\n",
      "Equals: 444\n",
      "Neutral: 0\n",
      "Both Negative: 0\n",
      "Both Positive: 0\n",
      "Both Neutral: 444\n"
     ]
    }
   ],
   "source": [
    "opposite, equals, one_neutral, b_neg, b_pos, b_neu  =  polarity_pairs_evaluator('sentiment_f_sentiment', 'sentiment_r_sentiment')\n",
    "print(\"Sentiment\")\n",
    "print(\"Opposite: \"+str(opposite))\n",
    "print(\"Equals: \"+str(equals))\n",
    "print(\"Neutral: \"+str(one_neutral))\n",
    "print(\"Both Negative: \"+str(b_neg))\n",
    "print(\"Both Positive: \"+str(b_pos))\n",
    "print(\"Both Neutral: \"+str(b_neu))"
   ],
   "metadata": {
    "collapsed": false,
    "ExecuteTime": {
     "end_time": "2024-03-05T01:10:46.911864Z",
     "start_time": "2024-03-05T01:10:46.903435Z"
    }
   },
   "id": "faa1bdff9896ceb8"
  },
  {
   "cell_type": "code",
   "execution_count": null,
   "outputs": [],
   "source": [],
   "metadata": {
    "collapsed": false
   },
   "id": "ce417a5fbd60c370"
  }
 ],
 "metadata": {
  "kernelspec": {
   "display_name": "Python 3",
   "language": "python",
   "name": "python3"
  },
  "language_info": {
   "codemirror_mode": {
    "name": "ipython",
    "version": 2
   },
   "file_extension": ".py",
   "mimetype": "text/x-python",
   "name": "python",
   "nbconvert_exporter": "python",
   "pygments_lexer": "ipython2",
   "version": "2.7.6"
  }
 },
 "nbformat": 4,
 "nbformat_minor": 5
}
